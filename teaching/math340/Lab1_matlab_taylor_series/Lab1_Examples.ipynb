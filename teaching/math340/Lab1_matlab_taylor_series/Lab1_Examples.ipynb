{
 "cells": [
  {
   "cell_type": "markdown",
   "id": "f366032b",
   "metadata": {},
   "source": [
    "# Lab 1 Examples\n",
    "\n",
    "Lab Instructor: Connor Robertson\n",
    "\n",
    "## Example 1\n",
    "\n",
    "Here are a few basic calculations and constructions that you will need to use throughout the course for building arrays of numbers. Take note of these constructions as they will be useful for the entire course"
   ]
  },
  {
   "cell_type": "code",
   "execution_count": 1,
   "id": "f7c39329",
   "metadata": {
    "execute": {
     "shell": {
      "execute_reply": "2022-08-16T21:14:34.366094+00:00"
     }
    },
    "iopub": {
     "execute_input": "2022-08-16T21:14:24.659409+00:00",
     "status": {
      "busy": "2022-08-16T21:14:24.658758+00:00",
      "idle": "2022-08-16T21:14:34.366999+00:00"
     }
    }
   },
   "outputs": [
    {
     "name": "stdout",
     "output_type": "stream",
     "text": [
      "\n",
      "X =\n",
      "\n",
      "     0     1     2     3\n",
      "\n"
     ]
    }
   ],
   "source": [
    "% a row vector, X=(0 1 2 3) can be written three ways:\n",
    "\n",
    "% here it is written using brackets\n",
    "X = [0 1 2 3]"
   ]
  },
  {
   "cell_type": "code",
   "execution_count": 3,
   "id": "037fe9b9",
   "metadata": {
    "execute": {
     "shell": {
      "execute_reply": "2022-08-16T21:14:58.298423+00:00"
     }
    },
    "iopub": {
     "execute_input": "2022-08-16T21:14:58.289001+00:00",
     "status": {
      "busy": "2022-08-16T21:14:58.288147+00:00",
      "idle": "2022-08-16T21:14:58.299077+00:00"
     }
    }
   },
   "outputs": [
    {
     "name": "stdout",
     "output_type": "stream",
     "text": [
      "\n",
      "X =\n",
      "\n",
      "     0     1     2     3\n",
      "\n"
     ]
    }
   ],
   "source": [
    "% including ; at the end of the line will suppress the output (it will\n",
    "% still do the command but not print the variable:\n",
    "X = [0 1 2 3];\n",
    "\n",
    "% Here it is written in the form X=linspace(a,b,n) where\n",
    "% a is the first point, b is the last and n is the number\n",
    "% of equally spaced points\n",
    "X = linspace(0, 3, 4)"
   ]
  },
  {
   "cell_type": "code",
   "execution_count": null,
   "id": "73df78c4",
   "metadata": {},
   "outputs": [],
   "source": [
    "% linspace is a function that Matlab includes by default (it is in the\n",
    "% Matlab standard library)\n",
    "\n",
    "% Here it is written in the form X=a:delta:b where\n",
    "% a is the first point, b is the last and delta is the \n",
    "% distance between each point\n",
    "X=0:1:3"
   ]
  }
 ],
 "metadata": {
  "kernelspec": {
   "display_name": "Matlab (Connection)",
   "language": "matlab",
   "name": "matlab_connect"
  },
  "language_info": {
   "codemirror_mode": "octave",
   "file_extension": ".m",
   "help_links": [
    {
     "text": "MetaKernel Magics",
     "url": "https://metakernel.readthedocs.io/en/latest/source/README.html"
    }
   ],
   "mimetype": "text/x-octave",
   "name": "matlab",
   "version": "0.17.1"
  }
 },
 "nbformat": 4,
 "nbformat_minor": 5
}
