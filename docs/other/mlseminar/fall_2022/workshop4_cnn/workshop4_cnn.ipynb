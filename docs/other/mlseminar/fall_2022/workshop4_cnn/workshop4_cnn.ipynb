{
  "cells": [
    {
      "cell_type": "raw",
      "metadata": {},
      "source": [
        "---\n",
        "execute:\n",
        "  daemon: 500\n",
        "  keep-ipynb: true\n",
        "---"
      ],
      "id": "09dff1a9"
    },
    {
      "cell_type": "markdown",
      "metadata": {},
      "source": [
        "# Machine Learning Workshop -- Convolutional Neural Network (CNN)\n",
        "\n",
        "## Installing and loading some needed packages\n"
      ],
      "id": "a1b9be9f"
    },
    {
      "cell_type": "code",
      "metadata": {},
      "source": [
        "# Needed package for plotting\n",
        "import matplotlib.pyplot as plt\n",
        "%matplotlib inline \n",
        "\n",
        "# Needed package for getting the current working directory\n",
        "import os\n",
        "\n",
        "os.environ[\"CUDA_VISIBLE_DEVICES\"] = \"-1\"\n",
        "# Needed package for builing the convolutional neural network\n",
        "import tensorflow as tf\n",
        "from tensorflow.keras.models import Sequential\n",
        "from tensorflow.keras.layers import Dense, Conv2D, Dropout, Flatten, MaxPooling2D\n",
        "from tensorflow.keras.utils import plot_model\n",
        "\n",
        "# Needed package for computer vision problems\n",
        "import cv2"
      ],
      "id": "435bf216",
      "execution_count": null,
      "outputs": []
    },
    {
      "cell_type": "markdown",
      "metadata": {},
      "source": [
        "## Loading the MNIST data from keras library and split that into train and test dataset\n"
      ],
      "id": "f18e3c7d"
    },
    {
      "cell_type": "code",
      "metadata": {},
      "source": [
        "(x_train, y_train), (x_test, y_test) = tf.keras.datasets.mnist.load_data()\n",
        "image_index = 0\n",
        "print('The number for index = ' + str(image_index) + ' is ' + str(y_train[image_index])) "
      ],
      "id": "d189db6b",
      "execution_count": null,
      "outputs": []
    },
    {
      "cell_type": "code",
      "metadata": {},
      "source": [
        "plt.imshow(x_train[image_index], cmap='Greys')"
      ],
      "id": "571bef1a",
      "execution_count": null,
      "outputs": []
    },
    {
      "cell_type": "code",
      "metadata": {},
      "source": [
        "x_train.shape"
      ],
      "id": "84965282",
      "execution_count": null,
      "outputs": []
    },
    {
      "cell_type": "code",
      "metadata": {},
      "source": [
        "x_train[image_index].shape"
      ],
      "id": "a30f919e",
      "execution_count": null,
      "outputs": []
    },
    {
      "cell_type": "markdown",
      "metadata": {},
      "source": [
        "## Normalize data and put them into the correct format\n"
      ],
      "id": "e43e1b42"
    },
    {
      "cell_type": "code",
      "metadata": {},
      "source": [
        "x_train = x_train.reshape(x_train.shape[0], 28, 28, 1)\n",
        "x_test = x_test.reshape(x_test.shape[0], 28, 28, 1)\n",
        "input_shape = (28, 28, 1)\n",
        "# Making sure that the values are float so that we can get decimal points after division\n",
        "x_train = x_train.astype('float32')\n",
        "x_test = x_test.astype('float32')\n",
        "\n",
        "x_train /= 255\n",
        "x_test /= 255\n",
        "print('x_train shape:', x_train.shape)\n",
        "print('Number of images in x_train', x_train.shape[0])\n",
        "print('Number of images in x_test', x_test.shape[0])"
      ],
      "id": "677c5249",
      "execution_count": null,
      "outputs": []
    },
    {
      "cell_type": "markdown",
      "metadata": {},
      "source": [
        "## Convolutional Neural Network (CNN) structure\n"
      ],
      "id": "a5234f87"
    },
    {
      "cell_type": "code",
      "metadata": {},
      "source": [
        "model = Sequential()\n",
        "model.add(Conv2D(32, kernel_size=(3,3), input_shape=input_shape))\n",
        "model.add(MaxPooling2D(pool_size=(2, 2)))\n",
        "model.add(Conv2D(32, kernel_size=(3,3), input_shape=input_shape))\n",
        "model.add(MaxPooling2D(pool_size=(2, 2)))\n",
        "model.add(Flatten()) \n",
        "model.add(Dense(256, activation=tf.nn.relu))\n",
        "model.add(Dropout(0.2))\n",
        "model.add(Dense(10,activation=tf.nn.softmax))"
      ],
      "id": "60b8a581",
      "execution_count": null,
      "outputs": []
    },
    {
      "cell_type": "code",
      "metadata": {
        "scrolled": true
      },
      "source": [
        "model.summary()"
      ],
      "id": "5001007d",
      "execution_count": null,
      "outputs": []
    },
    {
      "cell_type": "markdown",
      "metadata": {},
      "source": [
        "## Training the CNN\n"
      ],
      "id": "b7d32e64"
    },
    {
      "cell_type": "code",
      "metadata": {},
      "source": [
        "#| output: false\n",
        "model.compile(optimizer='adam', \n",
        "              loss='sparse_categorical_crossentropy', \n",
        "              metrics=['accuracy'])\n",
        "model.fit(x=x_train,y=y_train, epochs=5)"
      ],
      "id": "602771f1",
      "execution_count": null,
      "outputs": []
    },
    {
      "cell_type": "code",
      "metadata": {
        "scrolled": true
      },
      "source": [
        "model.evaluate(x_test, y_test)"
      ],
      "id": "b930b5b4",
      "execution_count": null,
      "outputs": []
    },
    {
      "cell_type": "code",
      "metadata": {},
      "source": [
        "image_index = 59\n",
        "plt.imshow(x_test[image_index].reshape(28, 28),cmap='Greys')\n",
        "pred = model.predict(x_test[image_index].reshape(1, 28, 28, 1))\n",
        "print(' For image_index = ' + str(image_index) + ' CNN predicted number = ' + str(pred.argmax()))"
      ],
      "id": "b2314f59",
      "execution_count": null,
      "outputs": []
    },
    {
      "cell_type": "markdown",
      "metadata": {},
      "source": [
        "# In this part we are going to take a picture of your own handwriting and pass it into the CNN model, for doing that we need to do the following steps:\n",
        "\n",
        "## 1. Write a number in 6 different ways on a paper and transfer the picture into the same directory that your Jupyter Notebook is\n"
      ],
      "id": "9f6d9a3b"
    },
    {
      "cell_type": "code",
      "metadata": {},
      "source": [
        "cwd = os.getcwd()\n",
        "print('current working directory is = ' + cwd)"
      ],
      "id": "1481778e",
      "execution_count": null,
      "outputs": []
    },
    {
      "cell_type": "code",
      "metadata": {},
      "source": [
        "file = r'test_images/original_image.jpeg'\n",
        "test_image_original = cv2.imread(file, cv2.IMREAD_GRAYSCALE)"
      ],
      "id": "559893c4",
      "execution_count": null,
      "outputs": []
    },
    {
      "cell_type": "code",
      "metadata": {},
      "source": [
        "plt.imshow(test_image_original, cmap = 'gray')"
      ],
      "id": "d7b1aadd",
      "execution_count": null,
      "outputs": []
    },
    {
      "cell_type": "markdown",
      "metadata": {},
      "source": [
        "## 2. Take a picture of each of them individually -- you can have only one picture and then crop it into 6 different pieces\n"
      ],
      "id": "dce3cf16"
    },
    {
      "cell_type": "code",
      "metadata": {},
      "source": [
        "fig, axs = plt.subplots(2, 3)\n",
        "\n",
        "\n",
        "counter = 1\n",
        "for row_number in range(0, 2):\n",
        "    for col_number in range(0,3):\n",
        "        \n",
        "        file = r'test_images/copy_' + str(counter) +'.jpeg'\n",
        "        copy_image = cv2.imread(file, cv2.IMREAD_GRAYSCALE)\n",
        "        axs[row_number, col_number].imshow(copy_image, cmap = 'gray')\n",
        "        counter = counter + 1\n"
      ],
      "id": "599e264c",
      "execution_count": null,
      "outputs": []
    },
    {
      "cell_type": "markdown",
      "metadata": {},
      "source": [
        "## 4. Change the format of the picture into a readable form for your CNN model\n"
      ],
      "id": "c3021b7e"
    },
    {
      "cell_type": "code",
      "metadata": {},
      "source": [
        "file = r'test_images/copy_5.jpeg'\n",
        "copy_1 = cv2.imread(file, cv2.IMREAD_GRAYSCALE)\n",
        "plt.imshow(copy_1, cmap = 'gray')"
      ],
      "id": "ed858688",
      "execution_count": null,
      "outputs": []
    },
    {
      "cell_type": "code",
      "metadata": {},
      "source": [
        "# copy_1_resized = cv2.resize(copy_1, (28, 28), interpolation = cv2.INTER_LINEAR)\n",
        "copy_1_resized = cv2.resize(copy_1, (28, 28))\n",
        "copy_1_resized = cv2.bitwise_not(copy_1_resized)\n",
        "\n",
        "plt.imshow(copy_1_resized, cmap = 'Greys')"
      ],
      "id": "7ba9d1a6",
      "execution_count": null,
      "outputs": []
    },
    {
      "cell_type": "code",
      "metadata": {},
      "source": [
        "pred = model.predict(copy_1_resized.reshape(1, 28, 28, 1))\n",
        "print('CNN predicted number = ' + str(pred.argmax()))"
      ],
      "id": "42b4f755",
      "execution_count": null,
      "outputs": []
    }
  ],
  "metadata": {
    "kernelspec": {
      "name": "python3",
      "language": "python",
      "display_name": "Python 3 (ipykernel)"
    }
  },
  "nbformat": 4,
  "nbformat_minor": 5
}