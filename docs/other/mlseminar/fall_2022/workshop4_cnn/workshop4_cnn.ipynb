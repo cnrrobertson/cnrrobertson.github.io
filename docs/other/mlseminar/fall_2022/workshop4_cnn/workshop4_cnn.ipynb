{
  "cells": [
    {
      "cell_type": "raw",
      "metadata": {},
      "source": [
        "---\n",
        "execute:\n",
        "  daemon: 500\n",
        "  keep-ipynb: true\n",
        "---"
      ],
      "id": "13bc62ae"
    },
    {
      "cell_type": "markdown",
      "metadata": {},
      "source": [
        "# Machine Learning Workshop -- Convolutional Neural Network (CNN)\n",
        "\n",
        "## Installing and loading some needed packages\n"
      ],
      "id": "01730e2b"
    },
    {
      "cell_type": "code",
      "metadata": {},
      "source": [
        "# Needed package for plotting\n",
        "import matplotlib.pyplot as plt\n",
        "%matplotlib inline \n",
        "\n",
        "# Needed package for getting the current working directory\n",
        "import os\n",
        "\n",
        "os.environ[\"CUDA_VISIBLE_DEVICES\"] = \"-1\"\n",
        "# Needed package for builing the convolutional neural network\n",
        "import tensorflow as tf\n",
        "from tensorflow.keras.models import Sequential\n",
        "from tensorflow.keras.layers import Dense, Conv2D, Dropout, Flatten, MaxPooling2D\n",
        "from tensorflow.keras.utils import plot_model\n",
        "\n",
        "# Needed package for computer vision problems\n",
        "import cv2"
      ],
      "id": "2e321ec0",
      "execution_count": null,
      "outputs": []
    },
    {
      "cell_type": "markdown",
      "metadata": {},
      "source": [
        "## Loading the MNIST data from keras library and split that into train and test dataset\n"
      ],
      "id": "f8802a5c"
    },
    {
      "cell_type": "code",
      "metadata": {},
      "source": [
        "(x_train, y_train), (x_test, y_test) = tf.keras.datasets.mnist.load_data()\n",
        "image_index = 0\n",
        "print('The number for index = ' + str(image_index) + ' is ' + str(y_train[image_index])) "
      ],
      "id": "5a1821e3",
      "execution_count": null,
      "outputs": []
    },
    {
      "cell_type": "code",
      "metadata": {},
      "source": [
        "plt.imshow(x_train[image_index], cmap='Greys')"
      ],
      "id": "112566b2",
      "execution_count": null,
      "outputs": []
    },
    {
      "cell_type": "code",
      "metadata": {},
      "source": [
        "x_train.shape"
      ],
      "id": "3d163e06",
      "execution_count": null,
      "outputs": []
    },
    {
      "cell_type": "code",
      "metadata": {},
      "source": [
        "x_train[image_index].shape"
      ],
      "id": "6386a9ae",
      "execution_count": null,
      "outputs": []
    },
    {
      "cell_type": "markdown",
      "metadata": {},
      "source": [
        "## Normalize data and put them into the correct format\n"
      ],
      "id": "10b30eba"
    },
    {
      "cell_type": "code",
      "metadata": {},
      "source": [
        "x_train = x_train.reshape(x_train.shape[0], 28, 28, 1)\n",
        "x_test = x_test.reshape(x_test.shape[0], 28, 28, 1)\n",
        "input_shape = (28, 28, 1)\n",
        "# Making sure that the values are float so that we can get decimal points after division\n",
        "x_train = x_train.astype('float32')\n",
        "x_test = x_test.astype('float32')\n",
        "\n",
        "x_train /= 255\n",
        "x_test /= 255\n",
        "print('x_train shape:', x_train.shape)\n",
        "print('Number of images in x_train', x_train.shape[0])\n",
        "print('Number of images in x_test', x_test.shape[0])"
      ],
      "id": "62b49a44",
      "execution_count": null,
      "outputs": []
    },
    {
      "cell_type": "markdown",
      "metadata": {},
      "source": [
        "## Convolutional Neural Network (CNN) structure\n"
      ],
      "id": "4b5567fc"
    },
    {
      "cell_type": "code",
      "metadata": {},
      "source": [
        "model = Sequential()\n",
        "model.add(Conv2D(32, kernel_size=(3,3), input_shape=input_shape))\n",
        "model.add(MaxPooling2D(pool_size=(2, 2)))\n",
        "model.add(Conv2D(32, kernel_size=(3,3), input_shape=input_shape))\n",
        "model.add(MaxPooling2D(pool_size=(2, 2)))\n",
        "model.add(Flatten()) \n",
        "model.add(Dense(256, activation=tf.nn.relu))\n",
        "model.add(Dropout(0.2))\n",
        "model.add(Dense(10,activation=tf.nn.softmax))"
      ],
      "id": "436c25b9",
      "execution_count": null,
      "outputs": []
    },
    {
      "cell_type": "code",
      "metadata": {
        "scrolled": true
      },
      "source": [
        "model.summary()"
      ],
      "id": "a8354ce6",
      "execution_count": null,
      "outputs": []
    },
    {
      "cell_type": "markdown",
      "metadata": {},
      "source": [
        "## Training the CNN\n"
      ],
      "id": "71b49561"
    },
    {
      "cell_type": "code",
      "metadata": {},
      "source": [
        "#| output: false\n",
        "model.compile(optimizer='adam', \n",
        "              loss='sparse_categorical_crossentropy', \n",
        "              metrics=['accuracy'])\n",
        "model.fit(x=x_train,y=y_train, epochs=5)"
      ],
      "id": "b7ad55c7",
      "execution_count": null,
      "outputs": []
    },
    {
      "cell_type": "code",
      "metadata": {
        "scrolled": true
      },
      "source": [
        "model.evaluate(x_test, y_test)"
      ],
      "id": "e9798317",
      "execution_count": null,
      "outputs": []
    },
    {
      "cell_type": "code",
      "metadata": {},
      "source": [
        "image_index = 59\n",
        "plt.imshow(x_test[image_index].reshape(28, 28),cmap='Greys')\n",
        "pred = model.predict(x_test[image_index].reshape(1, 28, 28, 1))\n",
        "print(' For image_index = ' + str(image_index) + ' CNN predicted number = ' + str(pred.argmax()))"
      ],
      "id": "5d395504",
      "execution_count": null,
      "outputs": []
    },
    {
      "cell_type": "markdown",
      "metadata": {},
      "source": [
        "# In this part we are going to take a picture of your own handwriting and pass it into the CNN model, for doing that we need to do the following steps:\n",
        "\n",
        "## 1. Write a number in 6 different ways on a paper and transfer the picture into the same directory that your Jupyter Notebook is\n"
      ],
      "id": "47a9879a"
    },
    {
      "cell_type": "code",
      "metadata": {},
      "source": [
        "cwd = os.getcwd()\n",
        "print('current working directory is = ' + cwd)"
      ],
      "id": "39898f4e",
      "execution_count": null,
      "outputs": []
    },
    {
      "cell_type": "code",
      "metadata": {},
      "source": [
        "file = r'test_images/original_image.jpeg'\n",
        "test_image_original = cv2.imread(file, cv2.IMREAD_GRAYSCALE)"
      ],
      "id": "fea06a2b",
      "execution_count": null,
      "outputs": []
    },
    {
      "cell_type": "code",
      "metadata": {},
      "source": [
        "plt.imshow(test_image_original, cmap = 'gray')"
      ],
      "id": "88fcb0ad",
      "execution_count": null,
      "outputs": []
    },
    {
      "cell_type": "markdown",
      "metadata": {},
      "source": [
        "## 2. Take a picture of each of them individually -- you can have only one picture and then crop it into 6 different pieces\n"
      ],
      "id": "2c69a348"
    },
    {
      "cell_type": "code",
      "metadata": {},
      "source": [
        "fig, axs = plt.subplots(2, 3)\n",
        "\n",
        "\n",
        "counter = 1\n",
        "for row_number in range(0, 2):\n",
        "    for col_number in range(0,3):\n",
        "        \n",
        "        file = r'test_images/copy_' + str(counter) +'.jpeg'\n",
        "        copy_image = cv2.imread(file, cv2.IMREAD_GRAYSCALE)\n",
        "        axs[row_number, col_number].imshow(copy_image, cmap = 'gray')\n",
        "        counter = counter + 1\n"
      ],
      "id": "7987b303",
      "execution_count": null,
      "outputs": []
    },
    {
      "cell_type": "markdown",
      "metadata": {},
      "source": [
        "## 4. Change the format of the picture into a readable form for your CNN model\n"
      ],
      "id": "795045d0"
    },
    {
      "cell_type": "code",
      "metadata": {},
      "source": [
        "file = r'test_images/copy_5.jpeg'\n",
        "copy_1 = cv2.imread(file, cv2.IMREAD_GRAYSCALE)\n",
        "plt.imshow(copy_1, cmap = 'gray')"
      ],
      "id": "4bc5b2a7",
      "execution_count": null,
      "outputs": []
    },
    {
      "cell_type": "code",
      "metadata": {},
      "source": [
        "# copy_1_resized = cv2.resize(copy_1, (28, 28), interpolation = cv2.INTER_LINEAR)\n",
        "copy_1_resized = cv2.resize(copy_1, (28, 28))\n",
        "copy_1_resized = cv2.bitwise_not(copy_1_resized)\n",
        "\n",
        "plt.imshow(copy_1_resized, cmap = 'Greys')"
      ],
      "id": "aaa87652",
      "execution_count": null,
      "outputs": []
    },
    {
      "cell_type": "code",
      "metadata": {},
      "source": [
        "pred = model.predict(copy_1_resized.reshape(1, 28, 28, 1))\n",
        "print('CNN predicted number = ' + str(pred.argmax()))"
      ],
      "id": "46ee5f9d",
      "execution_count": null,
      "outputs": []
    }
  ],
  "metadata": {
    "kernelspec": {
      "name": "python3",
      "language": "python",
      "display_name": "Python 3 (ipykernel)"
    }
  },
  "nbformat": 4,
  "nbformat_minor": 5
}