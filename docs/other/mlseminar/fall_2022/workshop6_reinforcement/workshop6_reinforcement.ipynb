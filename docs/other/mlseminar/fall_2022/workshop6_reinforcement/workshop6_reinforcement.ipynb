{
  "cells": [
    {
      "cell_type": "markdown",
      "metadata": {},
      "source": [
        "# ❄️ Frozen Lake\n",
        "\n",
        "**Frozen Lake** is a simple environment composed of tiles, where the AI\n",
        "has to **move from an initial tile to a goal**.\n",
        "\n",
        "Tiles can be a safe frozen lake ✅, or a hole ❌ that gets you stuck\n",
        "forever.\n",
        "\n",
        "The AI, or agent, has 4 possible actions: go **◀️ LEFT**, **🔽 DOWN**,\n",
        "**▶️ RIGHT**, or **🔼 UP**.\n",
        "\n",
        "The agent must learn to avoid holes in order to reach the goal in a\n",
        "**minimal number of actions**.\n",
        "\n",
        "# Required Libraries"
      ],
      "id": "94c437d8-2abe-4b55-b918-468c005b4b0a"
    },
    {
      "cell_type": "code",
      "execution_count": 1,
      "metadata": {},
      "outputs": [],
      "source": [
        "import gymnasium as gym\n",
        "import random\n",
        "import numpy as np\n",
        "from IPython.display import Image\n",
        "import matplotlib.pyplot as plt"
      ],
      "id": "9b8dceb9"
    },
    {
      "cell_type": "markdown",
      "metadata": {},
      "source": [
        "# Initialize the Environment"
      ],
      "id": "9d695359-9ed9-4395-8f02-f13b107dc613"
    },
    {
      "cell_type": "code",
      "execution_count": 2,
      "metadata": {},
      "outputs": [
        {
          "output_type": "stream",
          "name": "stderr",
          "text": [
            "/Users/cjrobe/miniforge3/envs/website/lib/python3.11/site-packages/gymnasium/envs/toy_text/frozen_lake.py:328: UserWarning: WARN: You are calling render method without specifying any render mode. You can specify the render_mode at initialization, e.g. gym.make(\"FrozenLake-v1\", render_mode=\"rgb_array\")\n",
            "  gym.logger.warn("
          ]
        }
      ],
      "source": [
        "env = gym.make(\"FrozenLake-v1\", is_slippery = False) #in non-slippery version actions cannot be ignored\n",
        "env.reset()\n",
        "env.render()"
      ],
      "id": "ad8f4932"
    },
    {
      "cell_type": "markdown",
      "metadata": {},
      "source": [
        "-   S: starting point, safe\n",
        "-   F: frozen surface, safe\n",
        "-   H: hole, stuck forever\n",
        "-   G: goal, safe"
      ],
      "id": "b913f946-9f64-4839-84f8-52b31112a80a"
    },
    {
      "cell_type": "code",
      "execution_count": 3,
      "metadata": {},
      "outputs": [
        {
          "output_type": "display_data",
          "metadata": {},
          "data": {
            "text/plain": [
              "<IPython.core.display.Image object>"
            ]
          }
        }
      ],
      "source": [
        "Image(filename = \"FrozenLake.gif\", width=400)"
      ],
      "id": "a34a3760"
    },
    {
      "cell_type": "code",
      "execution_count": 4,
      "metadata": {},
      "outputs": [
        {
          "output_type": "display_data",
          "metadata": {},
          "data": {
            "text/plain": [
              "<IPython.core.display.Image object>"
            ]
          }
        }
      ],
      "source": [
        "Image(filename = \"Final.gif\", width=400)"
      ],
      "id": "830606bd"
    },
    {
      "cell_type": "markdown",
      "metadata": {},
      "source": [
        "# Reward\n",
        "\n",
        "Reward schedule:\n",
        "\n",
        "-   Reach goal(G): +1\n",
        "\n",
        "-   Reach hole(H): 0\n",
        "\n",
        "-   Reach frozen surface(F): 0\n",
        "\n",
        "# Size of Action and State Space"
      ],
      "id": "f8b55695-b6be-4320-8758-1a11102e318e"
    },
    {
      "cell_type": "code",
      "execution_count": 5,
      "metadata": {},
      "outputs": [
        {
          "output_type": "stream",
          "name": "stdout",
          "text": [
            "State space:  16\n",
            "Action space:  4"
          ]
        }
      ],
      "source": [
        "print(\"State space: \", env.observation_space.n)\n",
        "print(\"Action space: \", env.action_space.n)"
      ],
      "id": "46f53586"
    },
    {
      "cell_type": "markdown",
      "metadata": {},
      "source": [
        "In Frozen Lake, there are **16 tiles**, which means our agent can be\n",
        "found in 16 different positions, called states.\n",
        "\n",
        "For each state, there are **4 possible actions**:\n",
        "\n",
        "-   ◀️ LEFT: **0**\n",
        "-   🔽 DOWN: **1**\n",
        "-   ▶️ RIGHT: **2**\n",
        "-   🔼 UP: **3**\n",
        "\n",
        "# Initialize Q Table"
      ],
      "id": "c172f79d-31e9-4d5c-b77e-2fa731678ffa"
    },
    {
      "cell_type": "code",
      "execution_count": 6,
      "metadata": {},
      "outputs": [
        {
          "output_type": "display_data",
          "metadata": {},
          "data": {
            "text/plain": [
              "<IPython.core.display.Image object>"
            ]
          }
        }
      ],
      "source": [
        "Image(filename = \"QTable.gif\", width=400)"
      ],
      "id": "3b73f093"
    },
    {
      "cell_type": "code",
      "execution_count": 7,
      "metadata": {},
      "outputs": [
        {
          "output_type": "stream",
          "name": "stdout",
          "text": [
            "Q-table =\n",
            "[[0. 0. 0. 0.]\n",
            " [0. 0. 0. 0.]\n",
            " [0. 0. 0. 0.]\n",
            " [0. 0. 0. 0.]\n",
            " [0. 0. 0. 0.]\n",
            " [0. 0. 0. 0.]\n",
            " [0. 0. 0. 0.]\n",
            " [0. 0. 0. 0.]\n",
            " [0. 0. 0. 0.]\n",
            " [0. 0. 0. 0.]\n",
            " [0. 0. 0. 0.]\n",
            " [0. 0. 0. 0.]\n",
            " [0. 0. 0. 0.]\n",
            " [0. 0. 0. 0.]\n",
            " [0. 0. 0. 0.]\n",
            " [0. 0. 0. 0.]]"
          ]
        }
      ],
      "source": [
        "# Our table has the following dimensions:\n",
        "# (rows x columns) = (states x actions) = (16 x 4)\n",
        "\n",
        "nb_states = env.observation_space.n  # = 16\n",
        "nb_actions = env.action_space.n      # = 4\n",
        "qtable = np.zeros((nb_states, nb_actions))\n",
        "\n",
        "# Let's see how it looks\n",
        "print('Q-table =')\n",
        "print(qtable)"
      ],
      "id": "ad2e3043"
    },
    {
      "cell_type": "markdown",
      "metadata": {},
      "source": [
        "# Update Formula\n",
        "\n",
        "### \\$ Q\\_{new}(s_t, a_t) = Q(s_t, a_t) + (r_t + max_a Q(s\\_{t+1}, a) - Q(s_t, a_t)) \\$\n",
        "\n",
        "# Epsilon-Greedy Algorithm\n",
        "\n",
        "In this method, we want to allow our agent to either:\n",
        "\n",
        "-   Take the action with the highest value **(exploitation)**;\n",
        "-   Choose a random action to try to find even better ones\n",
        "    **(exploration)**."
      ],
      "id": "4e599033-b828-40d0-be61-d9227ce9cf18"
    },
    {
      "cell_type": "code",
      "execution_count": 8,
      "metadata": {},
      "outputs": [
        {
          "output_type": "display_data",
          "metadata": {},
          "data": {
            "text/plain": [
              "<IPython.core.display.Image object>"
            ]
          }
        }
      ],
      "source": [
        "Image(filename = \"tradeoff.gif\", width=700)"
      ],
      "id": "530f638a"
    },
    {
      "cell_type": "markdown",
      "metadata": {},
      "source": [
        "# Hyperparameters"
      ],
      "id": "20bebd27-8c8f-4d41-9069-e988d1cc016c"
    },
    {
      "cell_type": "code",
      "execution_count": 9,
      "metadata": {},
      "outputs": [],
      "source": [
        "episodes = 1000        # Total number of episodes\n",
        "alpha = 0.5            # Learning rate\n",
        "gamma = 0.9            # Discount factor\n",
        "epsilon = 1.0          # Amount of randomness in the action selection\n",
        "epsilon_decay = 0.001  # Fixed amount to decrease"
      ],
      "id": "6672b630"
    },
    {
      "cell_type": "markdown",
      "metadata": {},
      "source": [
        "# Training"
      ],
      "id": "ae9a3f51-5640-4889-bae9-33b90ef03e07"
    },
    {
      "cell_type": "code",
      "execution_count": 10,
      "metadata": {},
      "outputs": [],
      "source": [
        "# List of outcomes to plot\n",
        "outcomes = []\n",
        "\n",
        "for _ in range(episodes):\n",
        "\n",
        "    state,info = env.reset()\n",
        "    done = False\n",
        "\n",
        "    # By default, we consider our outcome to be a failure\n",
        "    outcomes.append(\"Failure\")\n",
        "\n",
        "    # Until the agent gets stuck in a hole or reaches the goal, keep training it\n",
        "    while not done:\n",
        "        # Generate a random number between 0 and 1\n",
        "        rnd = np.random.random()\n",
        "\n",
        "        # If random number < epsilon, take a random action\n",
        "        if rnd < epsilon:\n",
        "            action = env.action_space.sample()\n",
        "        # Else, take the action with the highest value in the current state\n",
        "        else:\n",
        "            action = np.argmax(qtable[state])\n",
        "\n",
        "        # Implement this action and move the agent in the desired direction\n",
        "        new_state, reward, done, _, info = env.step(action)\n",
        "\n",
        "        # Update Q(s,a)\n",
        "        qtable[state, action] = qtable[state, action] + \\\n",
        "                                alpha * (reward + gamma * np.max(qtable[new_state]) - qtable[state, action])\n",
        "\n",
        "        # Update our current state\n",
        "        state = new_state\n",
        "\n",
        "        # If we have a reward, it means that our outcome is a success\n",
        "        if reward:\n",
        "            outcomes[-1] = \"Success\"\n",
        "\n",
        "    # Update epsilon\n",
        "    epsilon = max(epsilon - epsilon_decay, 0)"
      ],
      "id": "f8b5c891"
    },
    {
      "cell_type": "markdown",
      "metadata": {},
      "source": [
        "# Updated Q Table"
      ],
      "id": "1430f70d-65c3-4123-94a6-07a860f3fe76"
    },
    {
      "cell_type": "code",
      "execution_count": 11,
      "metadata": {},
      "outputs": [
        {
          "output_type": "stream",
          "name": "stdout",
          "text": [
            "===========================================\n",
            "Q-table after training:\n",
            "[[0.531441   0.59049    0.59049    0.531441  ]\n",
            " [0.531441   0.         0.6561     0.59049   ]\n",
            " [0.59049    0.729      0.59049    0.6561    ]\n",
            " [0.6561     0.         0.59047945 0.59045162]\n",
            " [0.59049    0.6561     0.         0.531441  ]\n",
            " [0.         0.         0.         0.        ]\n",
            " [0.         0.81       0.         0.6561    ]\n",
            " [0.         0.         0.         0.        ]\n",
            " [0.6561     0.         0.729      0.59049   ]\n",
            " [0.6561     0.81       0.81       0.        ]\n",
            " [0.729      0.9        0.         0.729     ]\n",
            " [0.         0.         0.         0.        ]\n",
            " [0.         0.         0.         0.        ]\n",
            " [0.         0.80134387 0.9        0.72880834]\n",
            " [0.81       0.9        1.         0.81      ]\n",
            " [0.         0.         0.         0.        ]]"
          ]
        }
      ],
      "source": [
        "print('===========================================')\n",
        "print('Q-table after training:')\n",
        "print(qtable)"
      ],
      "id": "459636fa"
    },
    {
      "cell_type": "markdown",
      "metadata": {},
      "source": [
        "# Plot Outcomes"
      ],
      "id": "8c7bcacd-1808-49b4-b4b8-968ca5793954"
    },
    {
      "cell_type": "code",
      "execution_count": 12,
      "metadata": {},
      "outputs": [
        {
          "output_type": "display_data",
          "metadata": {},
          "data": {
            "image/png": "[encoded data removed]"
          }
        }
      ],
      "source": [
        "plt.figure(figsize=(12, 5))\n",
        "plt.xlabel(\"Run number\")\n",
        "plt.ylabel(\"Outcome\")\n",
        "ax = plt.gca()\n",
        "ax.set_facecolor('gainsboro')\n",
        "plt.bar(range(len(outcomes)), outcomes, color=\"navy\", width=1.0)\n",
        "plt.show()"
      ],
      "id": "77bb4639"
    },
    {
      "cell_type": "markdown",
      "metadata": {},
      "source": [
        "# Evaluation"
      ],
      "id": "f7dbcb50-57e9-4dc8-a5d9-1c543393e039"
    },
    {
      "cell_type": "code",
      "execution_count": 13,
      "metadata": {},
      "outputs": [
        {
          "output_type": "stream",
          "name": "stdout",
          "text": [
            "\n",
            "\n",
            "\n",
            "\n",
            "\n",
            "\n",
            "\n",
            "Success rate = 100.0%"
          ]
        }
      ],
      "source": [
        "episodes = 1\n",
        "nb_success = 0\n",
        "\n",
        "\n",
        "state,info = env.reset()\n",
        "env.render()\n",
        "done = False\n",
        "\n",
        "# Until the agent gets stuck or reaches the goal, keep training it\n",
        "while not done:\n",
        "\n",
        "    # Choose the action with the highest value in the current state\n",
        "    action = np.argmax(qtable[state])\n",
        "\n",
        "    # Implement this action and move the agent in the desired direction\n",
        "    new_state, reward, done, _, info = env.step(action)\n",
        "\n",
        "    # Render the environment\n",
        "    print()\n",
        "    env.render()\n",
        "\n",
        "    # Update our current state\n",
        "    state = new_state\n",
        "\n",
        "    # When we get a reward, it means we solved the game\n",
        "    nb_success += reward\n",
        "\n",
        "# Let's check our success rate!\n",
        "print()\n",
        "print (f\"Success rate = {nb_success/episodes*100}%\")"
      ],
      "id": "f130fab4"
    }
  ],
  "nbformat": 4,
  "nbformat_minor": 5,
  "metadata": {
    "kernelspec": {
      "name": "python3",
      "display_name": "Python 3 (ipykernel)",
      "language": "python"
    },
    "language_info": {
      "name": "python",
      "codemirror_mode": {
        "name": "ipython",
        "version": "3"
      },
      "file_extension": ".py",
      "mimetype": "text/x-python",
      "nbconvert_exporter": "python",
      "pygments_lexer": "ipython3",
      "version": "3.11.8"
    }
  }
}