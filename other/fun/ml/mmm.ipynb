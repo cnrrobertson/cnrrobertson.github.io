{
  "cells": [
    {
      "cell_type": "raw",
      "metadata": {},
      "source": [
        "---\n",
        "title: Mean, median, and mode\n",
        "author: Connor Robertson\n",
        "format: html\n",
        "filters:\n",
        "  - shinylive\n",
        "---"
      ],
      "id": "a73a5f47"
    },
    {
      "cell_type": "markdown",
      "metadata": {},
      "source": [
        "This is a Shinylive application embedded in a Quarto doc.\n"
      ],
      "id": "ba3aea2b"
    },
    {
      "cell_type": "code",
      "metadata": {
        "standalone": true,
        "viewerHeight": 500
      },
      "source": [
        "from shiny import *\n",
        "from scipy.stats import gamma\n",
        "import numpy as np\n",
        "import matplotlib.pyplot as plt\n",
        "import seaborn as sns\n",
        "\n",
        "app_ui = ui.page_fluid(\n",
        "    ui.layout_sidebar(\n",
        "        ui.panel_sidebar(\n",
        "            ui.input_slider(\"shape\", \"Shape\", 0, 100, 5, step=0.1),\n",
        "        ),\n",
        "        ui.panel_main(\n",
        "            ui.output_plot(\"plot\"),\n",
        "        ),\n",
        "    ),\n",
        ")\n",
        "\n",
        "def server(input, output, session):\n",
        "    @output\n",
        "    @render.plot(alt = \"Sine\")\n",
        "    def plot():\n",
        "        rv = gamma(input.shape())\n",
        "        xmax = rv.ppf(.999)\n",
        "        x = np.linspace(0, xmax, 200)\n",
        "        pdf = rv.pdf(x)\n",
        "        mean = rv.mean()\n",
        "        median = rv.median()\n",
        "        mode = x[np.argmax(pdf)]\n",
        "        ax = sns.lineplot(x, pdf)\n",
        "        # plt.plot(x, pdf)\n",
        "        ax.axvline(x=mean, ymin=0, ymax=1, label=\"Mean\")\n",
        "        # plt.vlines([mean], 0, plt.ylim()[1], label=\"Mean\")\n",
        "        # plt.vlines([median], 0, plt.ylim()[1], label=\"Median\")\n",
        "        # plt.vlines([mode], 0, plt.ylim()[1], label=\"Mode\")\n",
        "        plt.legend()\n",
        "\n",
        "\n",
        "app = App(app_ui, server)"
      ],
      "id": "969d2213",
      "execution_count": null,
      "outputs": []
    }
  ],
  "metadata": {
    "kernelspec": {
      "name": "python3",
      "language": "python",
      "display_name": "Python 3 (ipykernel)"
    }
  },
  "nbformat": 4,
  "nbformat_minor": 5
}